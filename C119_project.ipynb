{
  "nbformat": 4,
  "nbformat_minor": 0,
  "metadata": {
    "colab": {
      "name": "C119 project",
      "provenance": [],
      "authorship_tag": "ABX9TyOHSNowd9rxrnYIx/YD9WPY",
      "include_colab_link": true
    },
    "kernelspec": {
      "name": "python3",
      "display_name": "Python 3"
    },
    "language_info": {
      "name": "python"
    }
  },
  "cells": [
    {
      "cell_type": "markdown",
      "metadata": {
        "id": "view-in-github",
        "colab_type": "text"
      },
      "source": [
        "<a href=\"https://colab.research.google.com/github/Rithikagg/C101/blob/main/C119_project.ipynb\" target=\"_parent\"><img src=\"https://colab.research.google.com/assets/colab-badge.svg\" alt=\"Open In Colab\"/></a>"
      ]
    },
    {
      "cell_type": "code",
      "execution_count": 1,
      "metadata": {
        "colab": {
          "resources": {
            "http://localhost:8080/nbextensions/google.colab/files.js": {
              "data": "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",
              "ok": true,
              "headers": [
                [
                  "content-type",
                  "application/javascript"
                ]
              ],
              "status": 200,
              "status_text": ""
            }
          },
          "base_uri": "https://localhost:8080/",
          "height": 128
        },
        "id": "iRXeIEvFrCB7",
        "outputId": "1fb89e63-562a-40b3-c483-72cf5fdccaf4"
      },
      "outputs": [
        {
          "output_type": "display_data",
          "data": {
            "text/plain": [
              "<IPython.core.display.HTML object>"
            ],
            "text/html": [
              "\n",
              "     <input type=\"file\" id=\"files-333e7078-88a0-4800-ad04-e7c1d2918813\" name=\"files[]\" multiple disabled\n",
              "        style=\"border:none\" />\n",
              "     <output id=\"result-333e7078-88a0-4800-ad04-e7c1d2918813\">\n",
              "      Upload widget is only available when the cell has been executed in the\n",
              "      current browser session. Please rerun this cell to enable.\n",
              "      </output>\n",
              "      <script src=\"/nbextensions/google.colab/files.js\"></script> "
            ]
          },
          "metadata": {}
        },
        {
          "output_type": "stream",
          "name": "stdout",
          "text": [
            "Saving titanic.csv to titanic.csv\n"
          ]
        },
        {
          "output_type": "execute_result",
          "data": {
            "text/plain": [
              "{'titanic.csv': b'PassengerId,Pclass,Sex,Age,SibSp,Parch,Survived\\n1,3,1,34.5,1,0,0\\n2,1,0,47,1,0,1\\n3,3,0,62,0,0,1\\n4,1,0,27,1,0,1\\n5,3,1,22,0,0,0\\n6,3,1,14,0,0,0\\n7,1,1,30,0,0,0\\n8,3,1,26,3,1,0\\n9,3,0,18,0,2,1\\n10,2,0,21,1,0,1\\n11,3,0,0,1,1,1\\n12,1,0,46,0,0,1\\n13,3,1,23,0,0,0\\n14,3,1,63,1,5,0\\n15,3,0,47,0,0,0\\n16,2,0,24,0,0,1\\n17,3,1,35,4,1,0\\n18,2,1,21,0,0,1\\n19,3,0,27,1,0,0\\n20,3,0,45,0,0,1\\n21,2,1,55,0,0,0\\n22,2,1,9,0,0,1\\n23,3,0,0,0,0,1\\n24,1,1,21,0,0,1\\n25,3,0,48,3,1,0\\n26,3,0,50,1,5,1\\n27,3,1,22,0,0,0\\n28,1,1,22.5,3,2,0\\n29,3,0,41,0,0,1\\n30,3,1,0,0,0,0\\n31,1,1,50,0,0,0\\n32,1,0,24,1,0,1\\n33,3,0,33,0,0,1\\n34,2,1,0,0,0,0\\n35,1,1,30,1,0,0\\n36,1,1,18.5,1,0,0\\n37,3,1,0,0,0,1\\n38,3,1,21,0,0,0\\n39,3,0,25,2,0,0\\n40,3,0,0,1,0,1\\n41,3,0,39,1,0,0\\n42,2,0,0,1,0,0\\n43,3,1,41,0,0,0\\n44,2,0,30,1,2,1\\n45,3,0,45,0,0,1\\n46,3,1,25,0,0,0\\n47,3,1,45,1,0,0\\n48,3,0,0,0,0,1\\n49,3,1,60,2,0,0\\n50,3,0,36,1,0,0\\n51,3,1,24,4,1,0\\n52,3,1,27,0,0,0\\n53,1,0,20,1,0,1\\n54,2,0,28,1,0,1\\n55,1,1,0,0,1,0\\n56,1,1,10,0,0,1\\n57,2,0,35,0,0,1\\n58,3,1,25,0,0,0\\n59,2,0,0,1,2,1\\n60,3,1,36,5,2,0\\n61,3,1,17,0,0,0\\n62,1,0,32,0,0,1\\n63,1,1,18,1,0,0\\n64,3,1,22,3,2,0\\n65,1,1,13,0,0,0\\n66,3,1,0,1,1,1\\n67,2,0,18,0,0,1\\n68,3,1,47,0,0,0\\n69,3,0,31,4,2,1\\n70,3,1,60,2,0,0\\n71,2,1,24,0,0,0\\n72,3,0,21,5,2,0\\n73,2,1,29,0,0,0\\n74,3,1,28.5,1,0,0\\n75,3,1,35,0,0,1\\n76,3,1,32.5,0,0,0\\n77,3,1,0,0,0,0\\n78,3,1,55,0,0,0\\n79,2,1,30,0,2,1\\n80,3,0,24,0,0,1\\n81,3,1,6,0,0,0\\n82,3,1,67,0,0,1\\n83,3,0,49,0,0,1\\n84,1,1,0,0,0,0\\n85,2,0,0,0,0,1\\n86,3,0,0,3,0,1\\n87,3,1,27,1,3,0\\n88,3,1,18,0,0,0\\n89,1,0,0,3,2,1\\n90,3,1,2,0,0,0\\n91,3,1,22,0,0,0\\n92,3,1,0,0,0,0\\n93,1,1,27,1,0,0\\n94,3,1,0,1,2,0\\n95,3,1,25,0,0,0\\n96,3,1,25,0,0,0\\n97,1,1,76,0,0,0\\n98,1,1,29,0,1,1\\n99,2,0,20,0,1,1\\n100,2,1,33,1,0,0\\n101,3,0,43,0,0,0\\n102,3,1,27,0,0,0\\n103,1,1,0,0,1,0\\n104,3,1,26,0,0,0\\n105,3,1,16,2,0,0\\n106,3,1,28,0,0,0\\n107,3,0,21,0,0,1\\n108,3,1,0,0,0,1\\n109,3,1,0,0,0,0\\n110,3,0,18.5,1,0,1\\n111,1,1,41,0,0,0\\n112,3,0,0,1,0,0\\n113,3,1,36,0,0,0\\n114,3,0,18.5,1,0,0\\n115,3,0,63,0,0,0\\n116,3,1,18,0,0,0\\n117,3,1,0,0,0,0\\n118,2,1,1,1,0,0\\n119,1,1,36,0,1,0\\n120,3,0,29,4,2,0\\n121,2,1,12,2,0,0\\n122,3,1,0,0,0,0\\n123,2,1,35,1,0,0\\n124,2,0,28,0,0,1\\n125,1,1,0,0,1,0\\n126,3,1,17,1,0,1\\n127,3,1,22,0,0,0\\n128,3,1,0,0,0,1\\n129,3,0,42,1,1,1\\n130,3,1,24,0,0,0\\n131,3,1,32,0,0,0\\n132,3,1,53,0,0,0\\n133,3,0,0,1,0,0\\n134,2,0,0,1,0,1\\n135,2,1,43,0,0,0\\n136,2,1,24,0,0,0\\n137,1,0,26.5,0,2,1\\n138,1,1,26,1,0,0\\n139,3,1,23,0,0,0\\n140,1,1,40,0,0,0\\n141,3,0,10,0,2,0\\n142,3,0,33,0,0,1\\n143,3,0,61,1,0,1\\n144,3,1,28,0,0,0\\n145,2,1,42,0,0,0\\n146,2,1,31,1,1,0\\n147,3,1,0,0,0,1\\n148,3,0,22,2,2,0\\n149,2,1,0,0,2,0\\n150,2,1,30,0,0,0\\n151,2,1,23,0,0,0\\n152,1,0,0,1,0,1\\n153,3,1,60.5,0,0,0\\n154,3,1,36,0,2,0\\n155,3,1,13,0,0,0\\n156,1,1,24,0,1,0\\n157,3,0,29,0,0,1\\n158,3,1,23,0,0,0\\n159,3,1,42,0,0,0\\n160,3,1,26,8,2,0\\n161,3,1,0,0,1,0\\n162,2,0,7,0,0,1\\n163,3,1,26,0,0,0\\n164,3,1,0,0,0,0\\n165,3,1,41,4,1,0\\n166,3,1,26,0,2,1\\n167,1,0,48,0,1,1\\n168,3,0,18,1,4,0\\n169,1,1,0,0,0,0\\n170,3,1,22,0,0,0\\n171,1,1,0,0,0,0\\n172,3,1,27,4,1,0\\n173,3,0,23,1,1,1\\n174,3,1,0,0,0,0\\n175,1,1,40,0,0,0\\n176,3,1,15,1,1,0\\n177,3,1,20,3,1,0\\n178,1,0,54,0,0,0\\n179,2,1,36,0,0,0\\n180,3,1,64,0,0,0\\n181,3,0,30,8,2,0\\n182,2,1,37,0,0,0\\n183,3,1,18,4,2,0\\n184,2,1,0,2,1,1\\n185,3,0,27,0,2,1\\n186,1,1,40,0,0,0\\n187,3,0,21,1,0,1\\n188,1,1,17,0,0,1\\n189,3,1,0,1,1,0\\n190,3,1,40,0,0,0\\n191,2,0,34,0,0,1\\n192,2,1,0,0,0,0\\n193,3,0,11.5,1,0,1\\n194,2,1,61,1,1,1\\n195,1,0,8,0,0,1\\n196,1,0,33,0,0,1\\n197,3,1,6,0,0,0\\n198,3,1,18,0,1,0\\n199,3,0,23,0,0,1\\n200,2,0,0,0,0,0\\n201,3,1,0,0,0,0\\n202,3,1,0.33,8,2,0\\n203,3,1,47,0,0,0\\n204,3,1,8,0,0,0\\n205,3,1,25,0,0,1\\n206,3,0,0,0,1,0\\n207,3,1,35,1,0,0\\n208,3,1,24,0,0,1\\n209,3,0,33,0,0,1\\n210,1,1,25,0,0,1\\n211,3,1,32,0,0,0\\n212,2,0,0,0,0,1\\n213,3,1,17,0,0,0\\n214,2,1,60,0,0,0\\n215,3,1,38,1,0,0\\n216,1,0,42,1,0,1\\n217,3,0,0,0,0,1\\n218,2,1,57,1,0,0\\n219,1,0,50,0,0,1\\n220,2,1,0,0,0,0\\n221,3,1,30,0,0,1\\n222,2,1,21,0,0,0\\n223,3,1,22,0,0,0\\n224,3,1,21,0,0,0\\n225,1,1,53,1,0,1\\n226,3,1,0,0,0,0\\n227,2,1,23,0,0,1\\n228,3,1,0,0,0,0\\n229,2,1,40.5,0,0,0\\n230,3,0,36,3,1,0\\n231,1,0,14,1,0,1\\n232,3,1,21,0,0,0\\n233,2,1,21,0,0,0\\n234,3,0,0,4,2,1\\n235,2,1,39,0,0,0\\n236,3,0,20,0,0,0\\n237,2,1,64,1,0,0\\n238,2,0,20,0,2,1\\n239,2,1,18,0,0,0\\n240,2,1,48,0,0,0\\n241,3,0,55,1,0,0\\n242,3,0,45,1,0,1\\n243,2,1,45,0,0,0\\n244,3,1,0,0,0,0\\n245,3,1,0,0,0,0\\n246,1,1,41,2,0,0\\n247,3,0,22,0,0,0\\n248,2,0,42,0,2,1\\n249,1,1,29,1,1,1\\n250,2,1,0,1,0,0\\n251,3,1,0.92,0,0,0\\n252,3,0,20,1,1,0\\n253,1,1,27,0,0,0\\n254,3,1,24,1,0,0\\n255,3,0,32.5,0,2,0\\n256,3,0,0,0,2,1\\n257,1,0,0,0,0,1\\n258,1,0,28,0,0,1\\n259,1,0,19,0,0,1\\n260,2,0,21,0,1,1\\n261,3,1,36.5,0,0,0\\n262,3,1,21,4,2,1\\n263,1,1,29,1,1,0\\n264,1,1,1,0,0,0\\n265,3,0,30,0,0,0\\n266,2,1,0,0,0,0\\n267,3,1,0,4,1,0\\n268,3,1,0,1,0,1\\n269,1,0,0,0,1,1\\n270,1,0,17,0,0,1\\n271,1,1,46,0,0,0\\n272,3,1,0,0,0,1\\n273,2,0,26,0,1,1\\n274,1,1,0,0,1,0\\n275,3,0,0,0,0,1\\n276,1,0,20,1,0,1\\n277,3,0,28,0,0,0\\n278,2,1,40,0,0,0\\n279,3,1,30,4,1,0\\n280,3,0,22,1,1,1\\n281,3,1,23,0,0,0\\n282,3,1,0.75,0,0,0\\n283,3,1,0,0,0,0\\n284,3,1,9,0,0,1\\n285,1,1,2,0,0,0\\n286,3,1,36,0,0,0\\n287,3,1,0,0,0,1\\n288,3,1,24,0,0,0\\n289,2,1,0,0,0,1\\n290,3,0,0,0,0,1\\n291,1,0,0,0,0,1\\n292,1,0,30,1,0,1\\n293,2,1,0,0,0,0\\n294,3,0,53,0,0,0\\n295,3,1,36,0,0,0\\n296,1,1,26,0,0,0\\n297,3,1,1,0,0,0\\n298,1,0,0,1,2,0\\n299,1,1,30,0,0,1\\n300,1,0,29,0,1,1\\n301,3,0,32,0,0,1\\n302,3,1,0,2,0,1\\n303,3,1,43,0,0,0\\n304,2,0,24,0,0,1\\n305,3,1,0,0,0,0\\n306,1,1,64,1,2,1\\n307,1,0,30,0,0,1\\n308,1,0,0.83,1,0,1\\n309,2,1,55,1,0,0\\n310,1,0,45,0,0,1\\n311,1,0,18,0,0,1\\n312,1,0,22,2,2,1\\n313,2,0,0,1,1,0\\n314,3,1,37,0,0,0\\n315,2,1,55,1,1,0\\n316,3,0,17,0,0,1\\n317,2,0,57,1,0,1\\n318,2,1,19,0,0,0\\n319,1,0,27,0,2,1\\n320,1,0,22,1,1,1\\n321,3,1,26,0,0,0\\n322,3,1,25,0,0,0\\n323,2,0,26,0,0,1\\n324,2,0,33,1,1,1\\n325,3,1,39,8,2,0\\n326,1,0,23,0,0,1\\n327,3,1,12,0,0,0\\n328,2,0,46,0,0,1\\n329,3,0,29,1,1,1\\n330,1,0,21,0,1,1\\n331,3,0,48,2,0,1\\n332,1,1,39,0,0,0\\n333,1,1,0,0,1,0\\n334,3,1,19,2,0,0\\n335,1,0,27,1,0,1\\n336,3,1,30,0,0,0\\n337,1,1,32,1,0,0\\n338,1,0,39,0,0,1\\n339,3,1,25,0,0,1\\n340,1,1,0,0,0,0\\n341,2,1,18,1,1,1\\n342,1,0,32,3,2,1\\n343,2,1,0,0,0,0\\n344,2,1,58,0,0,0\\n345,2,1,0,0,0,0\\n346,2,0,16,0,0,1\\n347,2,0,26,0,0,1\\n348,3,0,38,1,0,1\\n349,3,1,24,1,1,1\\n350,3,1,31,0,0,0\\n351,3,1,45,0,0,0\\n352,1,1,25,0,0,0\\n353,3,1,18,1,1,0\\n354,3,1,49,1,0,0\\n355,3,1,0.17,0,0,0\\n356,3,1,50,0,0,0\\n357,1,0,59,0,1,1\\n358,2,0,0,0,0,0\\n359,3,0,0,0,0,1\\n360,3,0,30,0,0,1\\n361,3,1,14.5,1,4,0\\n362,2,1,24,1,0,0\\n363,3,0,31,0,1,0\\n364,3,1,27,0,0,0\\n365,3,1,25,1,0,0\\n366,3,1,0,0,0,0\\n367,1,0,0,1,0,1\\n368,3,0,22,0,0,1\\n369,3,0,45,0,0,1\\n370,1,0,29,0,0,1\\n371,1,1,21,1,0,1\\n372,3,1,31,1,0,0\\n373,3,1,49,0,0,0\\n374,1,1,44,0,0,0\\n375,3,0,54,3,1,0\\n376,1,0,45,1,0,1\\n377,3,0,22,0,0,1\\n378,1,1,21,0,2,0\\n379,3,1,55,0,0,0\\n380,3,1,5,0,0,0\\n381,1,0,0,0,0,1\\n382,3,0,26,0,2,1\\n383,3,1,0,0,0,0\\n384,1,0,19,1,0,1\\n385,3,1,0,0,0,0\\n386,2,1,24,0,0,0\\n387,3,1,24,5,2,0\\n388,2,0,57,0,0,1\\n389,3,1,21,0,0,0\\n390,2,0,6,0,0,1\\n391,1,1,23,1,2,1\\n392,3,1,51,0,0,1\\n393,3,1,13,2,0,0\\n394,1,0,47,1,0,1\\n395,3,0,29,0,2,1\\n396,3,1,18,0,0,0\\n397,3,0,24,0,0,0\\n398,2,1,48,0,0,0\\n399,2,1,22,0,0,0\\n400,2,0,31,0,0,1\\n401,3,1,30,0,0,1\\n402,3,1,38,0,0,0\\n403,3,0,22,1,0,0\\n404,3,1,17,1,0,0\\n405,3,0,43,0,0,0\\n406,2,1,20,1,0,0\\n407,3,1,23,0,0,0\\n408,2,1,50,1,1,1\\n409,3,1,0,0,0,0\\n410,3,0,3,3,1,0\\n411,3,1,0,0,0,0\\n412,3,1,37,0,0,0\\n413,1,0,28,1,0,1\\n414,2,1,0,0,0,0\\n415,3,1,39,0,0,1\\n416,3,0,38.5,0,0,0\\n417,2,0,0,1,1,1\\n418,2,0,0,0,2,1\\n419,2,1,22,0,0,0\\n420,3,0,38,0,2,0\\n421,3,1,26,0,0,0\\n422,3,1,35,0,0,0\\n423,3,1,35,0,0,0\\n424,3,0,22,1,1,0\\n425,3,1,54,1,1,0\\n426,3,1,2,0,0,0\\n427,2,0,27,1,0,1\\n428,2,0,14,0,0,1\\n429,3,1,4,0,0,0\\n430,3,1,58,0,0,1\\n431,1,1,20,0,0,1\\n432,3,0,39,1,0,1\\n433,2,0,14,1,0,1\\n434,3,1,55,0,0,0\\n435,1,1,2,1,0,0\\n436,1,0,54,1,2,1\\n437,3,0,2,2,2,0\\n438,2,0,27,2,3,1\\n439,1,1,14,1,4,0\\n440,2,1,4,0,0,0\\n441,2,0,58,1,1,1\\n442,3,1,20,0,0,0\\n443,3,1,39,1,0,0\\n444,2,0,14,0,0,1\\n445,3,1,55,0,0,1\\n446,1,1,2,0,2,1\\n447,2,0,54,0,1,1\\n448,1,1,35,0,0,1\\n449,3,0,34,2,1,1\\n450,1,1,15,0,0,1\\n451,2,1,28,1,2,0\\n452,3,1,8,1,0,0\\n453,1,1,38,0,0,0\\n454,1,1,35,1,0,1\\n455,3,1,34,0,0,0\\n456,3,1,15,0,0,1\\n457,1,1,28,0,0,0\\n458,1,0,8,1,0,1\\n459,2,0,38,0,0,1\\n460,3,1,21,0,0,0\\n461,1,1,18,0,0,1\\n462,3,1,14,0,0,0\\n463,1,1,40,0,0,0\\n464,2,1,27,0,0,0\\n465,3,1,29,0,0,0\\n466,3,1,19,0,0,0\\n467,2,1,17,0,0,0\\n468,1,1,26,0,0,0\\n469,3,1,32,0,0,0\\n470,3,0,16,2,1,1\\n471,3,1,21,0,0,0\\n472,3,1,26,0,0,0\\n473,2,0,32,1,2,1\\n474,2,0,25,0,0,1\\n475,3,0,29,0,0,0\\n476,1,1,19,0,0,0\\n477,2,1,23,1,0,0\\n478,3,1,24,1,0,0\\n479,3,1,29,0,0,0\\n480,3,0,20,0,1,1\\n481,3,1,46,5,2,0\\n482,2,1,26,0,0,0\\n483,3,1,59,0,0,0\\n484,3,0,23,0,0,1\\n485,1,1,24,1,0,1\\n486,3,0,47,3,1,0\\n487,1,0,14.5,1,0,1\\n488,1,1,22,0,0,0\\n489,3,1,20,0,0,0\\n490,3,1,17,1,1,1\\n491,3,1,21,1,0,0\\n492,3,1,70.5,0,0,0\\n493,1,1,29,0,0,0\\n494,1,1,24,0,0,0\\n495,3,1,2,0,0,0\\n496,3,1,21,0,0,0\\n497,1,0,47,1,0,1\\n498,3,1,14.5,0,0,0\\n499,1,0,22,1,2,0\\n500,3,1,20,0,0,0\\n501,3,1,17,0,0,0\\n502,3,0,47,0,0,0\\n503,3,0,14.5,0,0,0\\n504,3,0,22,0,0,0\\n505,1,0,20,0,0,1\\n506,1,1,17,1,0,0\\n507,2,0,21,0,2,1\\n508,1,1,70.5,0,0,1\\n509,3,1,29,0,0,0\\n510,3,1,24,0,0,1\\n511,3,1,2,0,0,1\\n512,3,1,21,0,0,0\\n513,1,1,47,0,0,1\\n514,1,0,14.5,1,0,1\\n515,3,1,22,0,0,0\\n516,1,1,20,0,0,0\\n517,2,0,17,0,0,1\\n518,3,1,21,0,0,0\\n519,2,0,70.5,1,0,1\\n520,3,1,29,0,0,0\\n521,1,0,24,0,0,1\\n522,3,1,2,0,0,0\\n523,3,1,21,0,0,0\\n524,1,0,47,0,1,1\\n525,3,1,14.5,0,0,0\\n526,3,1,22,0,0,0\\n527,2,0,20,0,0,1\\n528,1,1,17,0,0,0\\n529,3,1,21,0,0,0\\n530,2,1,70.5,2,1,0\\n531,2,0,29,1,1,1\\n532,3,1,24,0,0,0\\n533,3,1,2,1,1,0\\n534,3,0,21,0,2,1\\n535,3,0,47,0,0,0\\n536,2,0,14.5,0,2,1\\n537,1,1,22,0,0,0\\n538,1,0,20,0,0,1\\n539,3,1,17,0,0,0\\n540,1,0,21,0,2,1\\n541,1,0,70.5,0,2,1\\n542,3,0,29,4,2,0\\n543,3,0,24,4,2,0\\n544,2,1,2,1,0,1\\n545,1,1,21,1,0,0\\n546,1,1,47,0,0,0\\n547,2,0,14.5,1,0,1\\n548,2,1,22,0,0,1\\n549,3,1,20,1,1,0\\n550,2,1,17,1,1,1\\n551,1,1,21,0,2,1\\n552,2,1,70.5,0,0,0\\n553,3,1,29,0,0,0\\n554,3,1,24,0,0,1\\n555,3,0,2,0,0,1\\n556,1,1,21,0,0,0\\n557,1,0,47,1,0,1\\n558,1,1,14.5,0,0,0\\n559,1,0,22,1,1,1\\n560,3,0,20,1,0,1\\n561,3,1,17,0,0,0\\n562,3,1,21,0,0,0\\n563,2,1,70.5,0,0,0\\n564,3,1,29,0,0,0\\n565,3,0,24,0,0,0\\n566,3,1,2,2,0,0\\n567,3,1,21,0,0,0\\n568,3,0,47,0,4,0\\n569,3,1,14.5,0,0,0\\n570,3,1,22,0,0,1\\n571,2,1,20,0,0,1\\n572,1,0,17,2,0,1\\n573,1,1,21,0,0,1\\n574,3,0,70.5,0,0,1\\n575,3,1,29,0,0,0\\n576,3,1,24,0,0,0\\n577,2,0,2,0,0,1\\n578,1,0,21,1,0,1\\n579,3,0,47,1,0,0\\n580,3,1,14.5,0,0,1\\n581,2,0,22,1,1,1\\n582,1,0,20,1,1,1\\n583,2,1,17,0,0,0\\n584,1,1,21,0,0,0\\n585,3,1,70.5,0,0,0\\n586,1,0,29,0,2,1\\n587,2,1,24,0,0,0\\n588,1,1,2,1,1,1\\n589,3,1,21,0,0,0\\n590,3,1,47,0,0,0\\n591,3,1,14.5,0,0,0\\n592,1,0,22,1,0,1\\n593,3,1,20,0,0,0\\n594,3,0,17,0,2,0\\n595,2,1,21,1,0,0\\n596,3,1,70.5,1,1,0\\n597,2,0,29,0,0,1\\n598,3,1,24,0,0,0\\n599,3,1,2,0,0,0\\n600,1,1,21,1,0,1\\n601,2,0,47,2,1,1\\n602,3,1,14.5,0,0,0\\n603,1,1,22,0,0,0\\n604,3,1,20,0,0,0\\n605,1,1,17,0,0,1\\n606,3,1,21,1,0,0\\n607,3,1,70.5,0,0,0\\n608,1,1,29,0,0,1\\n609,2,0,24,1,2,1\\n610,1,0,2,0,0,1\\n611,3,0,21,1,5,0\\n612,3,1,47,0,0,0\\n613,3,0,45,1,0,1\\n614,3,1,33,0,0,0\\n615,3,1,20,0,0,0\\n616,2,0,47,1,2,1\\n617,3,1,29,1,1,0\\n618,3,0,25,1,0,0\\n619,2,0,23,2,1,1\\n620,2,1,19,0,0,0\\n621,3,1,37,1,0,0\\n622,1,1,16,1,0,1\\n623,3,1,24,1,1,1\\n624,3,1,45,0,0,0\\n625,3,1,33,0,0,0\\n626,1,1,20,0,0,0\\n627,2,1,47,0,0,0\\n628,1,0,29,0,0,1\\n629,3,1,25,0,0,0\\n630,3,1,23,0,0,0\\n631,1,1,19,0,0,1\\n632,3,1,37,0,0,0\\n633,1,1,22,0,0,1\\n634,1,1,24,0,0,0\\n635,3,0,19,3,2,0\\n636,2,0,18,0,0,1\\n637,3,1,19,0,0,0\\n638,2,1,27,1,1,0\\n639,3,0,9,0,5,0\\n640,3,1,36.5,1,0,0\\n641,3,1,42,0,0,0\\n642,1,0,51,0,0,1\\n643,3,0,22,3,2,0\\n644,3,1,55.5,0,0,1\\n645,3,0,40.5,2,1,1\\n646,1,1,22,1,0,1\\n647,3,1,24,0,0,0\\n648,1,1,19,0,0,1\\n649,3,1,18,0,0,0\\n650,3,0,19,0,0,1\\n651,3,1,27,0,0,0\\n652,2,0,9,0,1,1\\n653,3,1,36.5,0,0,0\\n654,3,0,42,0,0,1\\n655,3,0,51,0,0,0\\n656,2,1,22,2,0,0\\n657,3,1,55.5,0,0,0\\n658,3,0,40.5,1,1,0\\n659,2,1,22,0,0,0\\n660,1,1,78,0,2,0\\n661,1,1,45,2,0,1\\n662,3,1,40,0,0,0\\n663,1,1,36,0,0,0\\n664,3,1,32,0,0,0\\n665,3,1,19,1,0,1\\n666,2,1,19,2,0,0\\n667,2,1,3,0,0,0\\n668,3,1,44,0,0,0\\n669,3,1,58,0,0,0\\n670,1,0,66,1,0,1\\n671,2,0,45,1,1,1\\n672,1,1,40,1,0,0\\n673,2,1,31,0,0,0\\n674,2,1,27,0,0,1\\n675,2,1,42,0,0,0\\n676,3,1,32,0,0,0\\n677,3,1,30,0,0,0\\n678,3,0,16,0,0,1\\n679,3,0,27,1,6,0\\n680,1,1,51,0,1,1\\n681,3,0,31,0,0,0\\n682,1,1,27,0,0,1\\n683,3,1,42,0,0,0\\n684,3,1,32,5,2,0\\n685,2,1,30,1,1,0\\n686,2,1,16,1,2,0\\n687,3,1,27,4,1,0\\n688,3,1,51,0,0,0\\n689,3,1,31,0,0,0\\n690,1,0,27,0,1,1\\n691,1,1,42,1,0,1\\n692,3,0,32,0,1,1\\n693,3,1,30,0,0,1\\n694,3,1,16,0,0,0\\n695,1,1,27,0,0,0\\n696,2,1,51,0,0,0\\n697,3,1,31,0,0,0\\n698,3,0,27,0,0,1\\n699,1,1,42,1,1,0\\n700,3,1,29,0,0,0\\n701,1,0,22,1,0,1\\n702,1,1,30,0,0,1\\n703,3,0,44,0,1,0\\n704,3,1,25,0,0,0\\n705,3,1,24,1,0,0\\n706,2,1,37,0,0,0\\n707,2,0,54,0,0,1\\n708,1,1,66,0,0,1\\n709,1,0,29,0,0,1\\n710,3,1,62,1,1,1\\n711,1,0,30,0,0,1\\n712,1,1,41,0,0,0\\n713,1,1,29,1,0,1\\n714,3,1,29,0,0,0\\n715,2,1,22,0,0,0\\n716,3,1,30,0,0,0\\n717,1,0,44,0,0,1\\n718,2,0,25,0,0,1\\n719,3,1,24,0,0,0\\n720,3,1,33,0,0,0\\n721,2,0,30,0,1,1\\n722,3,1,22,1,0,0\\n723,2,1,42,0,0,0\\n724,2,1,22,0,0,0\\n725,1,1,26,1,0,1\\n726,3,1,19,0,0,0\\n727,2,0,36,3,0,1\\n728,3,0,24,0,0,1\\n729,2,1,24,1,0,0\\n730,3,0,34,1,0,0\\n731,1,0,23.5,0,0,1\\n732,3,1,2,0,0,0\\n733,2,1,33,0,0,0\\n734,2,1,30,0,0,0\\n735,2,1,22,0,0,0\\n736,3,1,42,0,0,0\\n737,3,0,22,1,3,0\\n738,1,1,26,0,0,1\\n739,3,1,19,0,0,0\\n740,3,1,36,0,0,0\\n741,1,1,24,0,0,1\\n742,1,1,24,1,0,0\\n743,1,0,44,2,2,1\\n744,3,1,23.5,1,0,0\\n745,3,1,2,0,0,1\\n746,1,1,33,1,1,0\\n747,3,1,30,1,1,0\\n748,2,0,22,0,0,1\\n749,1,1,17,1,0,0\\n750,3,1,30,0,0,0\\n751,2,0,30,1,1,1\\n752,3,1,24,0,1,1\\n753,3,1,18,0,0,0\\n754,3,1,26,0,0,0\\n755,2,0,28,1,2,1\\n756,2,1,43,1,1,1\\n757,3,1,26,0,0,0\\n758,2,1,24,0,0,0\\n759,3,1,54,0,0,0\\n760,1,0,31,0,0,1\\n761,3,1,40,0,0,0\\n762,3,1,22,0,0,0\\n763,3,1,27,0,0,1\\n764,1,0,30,1,2,1\\n765,3,1,22,0,0,0\\n766,1,0,33,1,0,1\\n767,1,1,36,0,0,0\\n768,3,0,61,0,0,0\\n769,3,1,36,1,0,0\\n770,3,1,31,0,0,0\\n771,3,1,16,0,0,0\\n772,3,1,32,0,0,0\\n773,2,0,45.5,0,0,0\\n774,3,1,38,0,0,0\\n775,2,0,16,1,3,1\\n776,3,1,17,0,0,0\\n777,3,1,30,0,0,0\\n778,3,0,30,0,0,1\\n779,3,1,24,0,0,0\\n780,1,0,18,0,1,1\\n781,3,0,26,0,0,1\\n782,1,0,28,1,0,1\\n783,1,1,43,0,0,0\\n784,3,1,26,1,2,0\\n785,3,1,24,0,0,0\\n786,3,1,54,0,0,0\\n787,3,0,31,0,0,1\\n788,3,1,40,4,1,0\\n789,3,1,29,1,2,1\\n790,1,1,41,0,0,0\\n791,3,1,45,0,0,0\\n792,2,1,45,0,0,0\\n793,3,0,2,8,2,0\\n794,1,1,24,0,0,0\\n795,3,1,28,0,0,0\\n796,2,1,25,0,0,0\\n797,1,0,36,0,0,1\\n798,3,0,24,0,0,1\\n799,3,1,40,0,0,0\\n800,3,0,23,1,1,0\\n801,2,1,3,0,0,0\\n802,2,0,42,1,1,1\\n803,1,1,23,1,2,1\\n804,3,1,43,0,1,1\\n805,3,1,15,0,0,1\\n806,3,1,25,0,0,0\\n807,1,1,12,0,0,0\\n808,3,0,28,0,0,0\\n809,2,1,22,0,0,0\\n810,1,0,38,1,0,1\\n811,3,1,29,0,0,0\\n812,3,1,41,0,0,0\\n813,2,1,45,0,0,0\\n814,3,0,45,4,2,0\\n815,3,1,2,0,0,0\\n816,1,1,24,0,0,0\\n817,3,0,28,0,0,0\\n818,2,1,25,1,1,0\\n819,3,1,36,0,0,0\\n820,3,1,22,3,2,0\\n821,1,0,27,1,1,1\\n822,3,1,20,0,0,1\\n823,1,1,19,0,0,0\\n824,3,0,42,0,1,1\\n825,3,1,1,4,1,0\\n826,3,1,32,0,0,0\\n827,3,1,35,0,0,0\\n828,2,1,23,0,2,1\\n829,3,1,18,0,0,1\\n830,1,0,1,0,0,1\\n831,3,0,36,1,0,1\\n832,2,1,11,1,1,1\\n833,3,1,17,0,0,0\\n834,3,1,36,0,0,0\\n835,3,1,21,0,0,0\\n836,1,0,28,1,1,1\\n837,3,1,23,0,0,0\\n838,3,1,24,0,0,0\\n839,3,1,22,0,0,1\\n840,1,1,31,0,0,1\\n841,3,1,46,0,0,0\\n842,2,1,23,0,0,0\\n843,1,0,28,0,0,1\\n844,3,1,39,0,0,0\\n845,3,1,26,0,0,0\\n846,3,1,21,0,0,0\\n847,3,1,28,8,2,0\\n848,3,1,20,0,0,0\\n849,2,1,34,0,1,0\\n850,1,0,51,1,0,1\\n851,3,1,3,4,2,0\\n852,3,1,21,0,0,0\\n853,3,0,22,1,1,0\\n854,1,0,27,0,1,1\\n855,2,0,20,1,0,0\\n856,3,0,19,0,1,1\\n857,1,0,42,1,1,1\\n858,1,1,42,0,0,1\\n859,3,0,17,0,3,1\\n860,3,1,50,0,0,0\\n861,3,1,14,2,0,0\\n862,2,1,21,1,0,0\\n863,1,0,24,0,0,1\\n864,3,0,64,8,2,0\\n865,2,1,31,0,0,0\\n866,2,0,45,0,0,1\\n867,2,0,20,1,0,1\\n868,1,1,25,0,0,0\\n869,3,1,28,0,0,0\\n870,3,1,42,1,1,1\\n871,3,1,17,0,0,0\\n872,1,0,50,1,1,1\\n873,1,1,14,0,0,0\\n874,3,1,21,0,0,0\\n875,2,0,24,1,0,1\\n876,3,0,64,0,0,1\\n877,3,1,31,0,0,0\\n878,3,1,45,0,0,0\\n879,3,1,20,0,0,0\\n880,1,0,25,0,1,1\\n881,2,0,28,0,1,1\\n882,3,1,42,0,0,0\\n883,3,0,17,0,0,0\\n884,2,1,50,0,0,0\\n885,3,1,4,0,0,0\\n886,3,0,13,0,5,0\\n887,2,1,34,0,0,0\\n888,1,0,5,0,0,1\\n889,3,0,52,1,2,0\\n890,1,1,36,0,0,1\\n891,3,1,4,0,0,0\\n'}"
            ]
          },
          "metadata": {},
          "execution_count": 1
        }
      ],
      "source": [
        "from google.colab import files\n",
        "files.upload()"
      ]
    },
    {
      "cell_type": "code",
      "source": [
        "import pandas as pd\n",
        "col_names= [' PassengerId ',' Pclass ',' Sex ',' Age ',' SibSp ',' Parch ',' Survived ']\n",
        "df=pd.read_csv(\"titanic.csv\",names=col_names).iloc[1:]\n",
        "print(df.head())"
      ],
      "metadata": {
        "colab": {
          "base_uri": "https://localhost:8080/"
        },
        "id": "GYId-TvWrctk",
        "outputId": "682e4b0a-bbff-4e3d-b9b1-be7c3058a5f8"
      },
      "execution_count": 8,
      "outputs": [
        {
          "output_type": "stream",
          "name": "stdout",
          "text": [
            "   PassengerId   Pclass   Sex   Age   SibSp   Parch   Survived \n",
            "1             1        3     1  34.5       1       0          0\n",
            "2             2        1     0    47       1       0          1\n",
            "3             3        3     0    62       0       0          1\n",
            "4             4        1     0    27       1       0          1\n",
            "5             5        3     1    22       0       0          0\n"
          ]
        }
      ]
    },
    {
      "cell_type": "code",
      "source": [
        "features=[' PassengerId ',' Pclass ',' Sex ',' Age ',' SibSp ',' Parch ']\n",
        "X=df[features]\n",
        "Y=df.Survived()"
      ],
      "metadata": {
        "colab": {
          "base_uri": "https://localhost:8080/",
          "height": 321
        },
        "id": "bJXkoes9sFIn",
        "outputId": "754908c2-43d1-431c-d9ce-c8898e0c7f60"
      },
      "execution_count": 10,
      "outputs": [
        {
          "output_type": "error",
          "ename": "AttributeError",
          "evalue": "ignored",
          "traceback": [
            "\u001b[0;31m---------------------------------------------------------------------------\u001b[0m",
            "\u001b[0;31mAttributeError\u001b[0m                            Traceback (most recent call last)",
            "\u001b[0;32m<ipython-input-10-bae56c75dc88>\u001b[0m in \u001b[0;36m<module>\u001b[0;34m()\u001b[0m\n\u001b[1;32m      1\u001b[0m \u001b[0mfeatures\u001b[0m\u001b[0;34m=\u001b[0m\u001b[0;34m[\u001b[0m\u001b[0;34m' PassengerId '\u001b[0m\u001b[0;34m,\u001b[0m\u001b[0;34m' Pclass '\u001b[0m\u001b[0;34m,\u001b[0m\u001b[0;34m' Sex '\u001b[0m\u001b[0;34m,\u001b[0m\u001b[0;34m' Age '\u001b[0m\u001b[0;34m,\u001b[0m\u001b[0;34m' SibSp '\u001b[0m\u001b[0;34m,\u001b[0m\u001b[0;34m' Parch '\u001b[0m\u001b[0;34m]\u001b[0m\u001b[0;34m\u001b[0m\u001b[0;34m\u001b[0m\u001b[0m\n\u001b[1;32m      2\u001b[0m \u001b[0mX\u001b[0m\u001b[0;34m=\u001b[0m\u001b[0mdf\u001b[0m\u001b[0;34m[\u001b[0m\u001b[0mfeatures\u001b[0m\u001b[0;34m]\u001b[0m\u001b[0;34m\u001b[0m\u001b[0;34m\u001b[0m\u001b[0m\n\u001b[0;32m----> 3\u001b[0;31m \u001b[0mY\u001b[0m\u001b[0;34m=\u001b[0m\u001b[0mdf\u001b[0m\u001b[0;34m.\u001b[0m\u001b[0mSurvived\u001b[0m\u001b[0;34m(\u001b[0m\u001b[0;34m)\u001b[0m\u001b[0;34m\u001b[0m\u001b[0;34m\u001b[0m\u001b[0m\n\u001b[0m",
            "\u001b[0;32m/usr/local/lib/python3.7/dist-packages/pandas/core/generic.py\u001b[0m in \u001b[0;36m__getattr__\u001b[0;34m(self, name)\u001b[0m\n\u001b[1;32m   5485\u001b[0m         ):\n\u001b[1;32m   5486\u001b[0m             \u001b[0;32mreturn\u001b[0m \u001b[0mself\u001b[0m\u001b[0;34m[\u001b[0m\u001b[0mname\u001b[0m\u001b[0;34m]\u001b[0m\u001b[0;34m\u001b[0m\u001b[0;34m\u001b[0m\u001b[0m\n\u001b[0;32m-> 5487\u001b[0;31m         \u001b[0;32mreturn\u001b[0m \u001b[0mobject\u001b[0m\u001b[0;34m.\u001b[0m\u001b[0m__getattribute__\u001b[0m\u001b[0;34m(\u001b[0m\u001b[0mself\u001b[0m\u001b[0;34m,\u001b[0m \u001b[0mname\u001b[0m\u001b[0;34m)\u001b[0m\u001b[0;34m\u001b[0m\u001b[0;34m\u001b[0m\u001b[0m\n\u001b[0m\u001b[1;32m   5488\u001b[0m \u001b[0;34m\u001b[0m\u001b[0m\n\u001b[1;32m   5489\u001b[0m     \u001b[0;32mdef\u001b[0m \u001b[0m__setattr__\u001b[0m\u001b[0;34m(\u001b[0m\u001b[0mself\u001b[0m\u001b[0;34m,\u001b[0m \u001b[0mname\u001b[0m\u001b[0;34m:\u001b[0m \u001b[0mstr\u001b[0m\u001b[0;34m,\u001b[0m \u001b[0mvalue\u001b[0m\u001b[0;34m)\u001b[0m \u001b[0;34m->\u001b[0m \u001b[0;32mNone\u001b[0m\u001b[0;34m:\u001b[0m\u001b[0;34m\u001b[0m\u001b[0;34m\u001b[0m\u001b[0m\n",
            "\u001b[0;31mAttributeError\u001b[0m: 'DataFrame' object has no attribute 'Survived'"
          ]
        }
      ]
    }
  ]
}